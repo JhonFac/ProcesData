{
 "cells": [
  {
   "cell_type": "code",
   "execution_count": null,
   "id": "c53d72c7-8012-44af-bbf1-573ccc2676a5",
   "metadata": {},
   "outputs": [],
   "source": [
    "import pandas as pd"
   ]
  },
  {
   "cell_type": "code",
   "execution_count": null,
   "id": "cafd2641-5cef-4225-8a7c-ce85f37157bd",
   "metadata": {},
   "outputs": [],
   "source": [
    "archivo_excel = \"online_retail_II.xlsx\""
   ]
  },
  {
   "cell_type": "code",
   "execution_count": null,
   "id": "49182b5c-4455-43f2-b152-def29716f79b",
   "metadata": {},
   "outputs": [],
   "source": [
    "hoja_2009_2010 = pd.read_excel(archivo_excel, sheet_name=\"Year 2009-2010\")"
   ]
  },
  {
   "cell_type": "code",
   "execution_count": null,
   "id": "4ae95f84-4443-401f-afa7-bf221e8ec7a7",
   "metadata": {},
   "outputs": [],
   "source": [
    "hoja_2010_2011 = pd.read_excel(archivo_excel, sheet_name=\"Year 2010-2011\")"
   ]
  },
  {
   "cell_type": "code",
   "execution_count": null,
   "id": "9dc6382a-e292-4c6a-9f12-ce1125ba554a",
   "metadata": {},
   "outputs": [],
   "source": [
    "# Función para encontrar el país que más productos consume en una hoja dada\n",
    "def pais_mas_consumo(hoja):\n",
    "    consumo_por_pais = hoja.groupby(\"Country\")[\"Quantity\"].sum().reset_index()\n",
    "    pais_max_consumo = consumo_por_pais.loc[consumo_por_pais[\"Quantity\"].idxmax()]\n",
    "    return pais_max_consumo[\"Country\"], pais_max_consumo[\"Quantity\"]\n"
   ]
  },
  {
   "cell_type": "code",
   "execution_count": null,
   "id": "15e2aed4-0dbc-42bc-8a22-94d493f852e7",
   "metadata": {},
   "outputs": [],
   "source": [
    "pais_max_consumo_2009_2010, cantidad_max_2009_2010 = pais_mas_consumo(hoja_2009_2010)"
   ]
  },
  {
   "cell_type": "code",
   "execution_count": null,
   "id": "5e0447cd-25a6-40c6-a990-b73263a4a85b",
   "metadata": {},
   "outputs": [],
   "source": [
    "pais_max_consumo_2010_2011, cantidad_max_2010_2011 = pais_mas_consumo(hoja_2010_2011)"
   ]
  },
  {
   "cell_type": "code",
   "execution_count": null,
   "id": "7d1d4249-0834-4a71-b09e-1cd7be6823b1",
   "metadata": {},
   "outputs": [],
   "source": [
    "print(\"En la hoja 'Year 2009-2010':\")\n",
    "print(\"País que más productos consume:\", pais_max_consumo_2009_2010)\n",
    "print(\"Cantidad total de productos consumidos:\", cantidad_max_2009_2010)"
   ]
  },
  {
   "cell_type": "code",
   "execution_count": null,
   "id": "049e1f35-46d3-42cf-b9fd-3b43a01b3d11",
   "metadata": {},
   "outputs": [],
   "source": [
    "print(\"\\nEn la hoja 'Year 2010-2011':\")\n",
    "print(\"País que más productos consume:\", pais_max_consumo_2010_2011)\n",
    "print(\"Cantidad total de productos consumidos:\", cantidad_max_2010_2011)"
   ]
  }
 ],
 "metadata": {
  "kernelspec": {
   "display_name": "Python 3 (ipykernel)",
   "language": "python",
   "name": "python3"
  },
  "language_info": {
   "codemirror_mode": {
    "name": "ipython",
    "version": 3
   },
   "file_extension": ".py",
   "mimetype": "text/x-python",
   "name": "python",
   "nbconvert_exporter": "python",
   "pygments_lexer": "ipython3",
   "version": "3.10.7"
  }
 },
 "nbformat": 4,
 "nbformat_minor": 5
}
